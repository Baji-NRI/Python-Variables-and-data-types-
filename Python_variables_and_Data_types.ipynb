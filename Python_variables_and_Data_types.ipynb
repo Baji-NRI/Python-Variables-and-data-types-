{
  "nbformat": 4,
  "nbformat_minor": 0,
  "metadata": {
    "colab": {
      "provenance": [],
      "include_colab_link": true
    },
    "kernelspec": {
      "name": "python3",
      "display_name": "Python 3"
    },
    "language_info": {
      "name": "python"
    }
  },
  "cells": [
    {
      "cell_type": "markdown",
      "metadata": {
        "id": "view-in-github",
        "colab_type": "text"
      },
      "source": [
        "<a href=\"https://colab.research.google.com/github/Baji-NRI/Python-Variables-and-data-types-/blob/main/Python_variables_and_Data_types.ipynb\" target=\"_parent\"><img src=\"https://colab.research.google.com/assets/colab-badge.svg\" alt=\"Open In Colab\"/></a>"
      ]
    },
    {
      "cell_type": "code",
      "execution_count": null,
      "metadata": {
        "colab": {
          "base_uri": "https://localhost:8080/"
        },
        "id": "hplRASkAgoyy",
        "outputId": "c39c4daa-75a6-4a2f-8316-65b3fcabca39"
      },
      "outputs": [
        {
          "output_type": "execute_result",
          "data": {
            "text/plain": [
              "46"
            ]
          },
          "metadata": {},
          "execution_count": 7
        }
      ],
      "source": [
        "len(\"who is the inventor of currency ? in 100 words\")"
      ]
    },
    {
      "cell_type": "code",
      "source": [
        "len ( \" The invention  of     currency   has   no   single   creator .   Instead  ,   it   evolved    gradual\" )"
      ],
      "metadata": {
        "colab": {
          "base_uri": "https://localhost:8080/"
        },
        "id": "tsKVJGgPhqB_",
        "outputId": "de0b3e5b-586d-43cf-e037-45541a0421c2"
      },
      "execution_count": null,
      "outputs": [
        {
          "output_type": "execute_result",
          "data": {
            "text/plain": [
              "102"
            ]
          },
          "metadata": {},
          "execution_count": 16
        }
      ]
    },
    {
      "cell_type": "code",
      "source": [
        "len(\"Who is the inventor of currency ?\")"
      ],
      "metadata": {
        "colab": {
          "base_uri": "https://localhost:8080/"
        },
        "id": "lgI9kjIXjpGE",
        "outputId": "1a970051-6ace-4f55-b8d3-f285d85fe3c7"
      },
      "execution_count": null,
      "outputs": [
        {
          "output_type": "execute_result",
          "data": {
            "text/plain": [
              "33"
            ]
          },
          "metadata": {},
          "execution_count": 17
        }
      ]
    },
    {
      "cell_type": "code",
      "source": [
        "len ( \"\"\" The invention  of     currency   has   no   single   creator .   Instead  ,   it   evolved    gradual ivilizations. The earliest forms of currency emerged independently in diff\n",
        "ardized silver and gold weights.\n",
        "oins around 700-500 BCE.\n",
        ". These were electrum coins (a natural alloy of gold and silver) with stan\n",
        "like salt, livestock, or metals) that served as mediums of exchange. The\n",
        "ough widespread adoption of paper currency took many more centuries.\"\"\")"
      ],
      "metadata": {
        "colab": {
          "base_uri": "https://localhost:8080/"
        },
        "id": "0pix8kKCj-to",
        "outputId": "bfaa88e8-3ba7-4762-b8f0-a3b57d7eb895"
      },
      "execution_count": null,
      "outputs": [
        {
          "output_type": "execute_result",
          "data": {
            "text/plain": [
              "453"
            ]
          },
          "metadata": {},
          "execution_count": 23
        }
      ]
    },
    {
      "cell_type": "code",
      "source": [
        "46/102"
      ],
      "metadata": {
        "colab": {
          "base_uri": "https://localhost:8080/"
        },
        "id": "JiemRt2MkwjY",
        "outputId": "d44b19fd-3dd8-454d-d054-8025422621c7"
      },
      "execution_count": null,
      "outputs": [
        {
          "output_type": "execute_result",
          "data": {
            "text/plain": [
              "0.45098039215686275"
            ]
          },
          "metadata": {},
          "execution_count": 24
        }
      ]
    },
    {
      "cell_type": "code",
      "source": [
        "33/453"
      ],
      "metadata": {
        "colab": {
          "base_uri": "https://localhost:8080/"
        },
        "id": "xZ79y-CFk4iu",
        "outputId": "4a48e920-e72c-45e0-99e0-1f556fc8f6f3"
      },
      "execution_count": null,
      "outputs": [
        {
          "output_type": "execute_result",
          "data": {
            "text/plain": [
              "0.0728476821192053"
            ]
          },
          "metadata": {},
          "execution_count": 25
        }
      ]
    },
    {
      "cell_type": "code",
      "source": [
        "#Token rati of or there sponse from the LLM Model -0.025\n"
      ],
      "metadata": {
        "id": "-jZsiw2VlAPQ"
      },
      "execution_count": null,
      "outputs": []
    },
    {
      "cell_type": "code",
      "source": [
        "number1 = 10\n",
        "number2 = 20\n",
        "number3 = 30\n",
        "# P1 - Solution for P1 : create a small function with ...\n",
        "# P2 - Solution for P2 : create a small function with ...\n",
        "\n"
      ],
      "metadata": {
        "id": "lFHazfszoMcM"
      },
      "execution_count": null,
      "outputs": []
    },
    {
      "cell_type": "code",
      "source": [
        "print(number1)\n",
        "print(number2)\n",
        "print(number3)"
      ],
      "metadata": {
        "colab": {
          "base_uri": "https://localhost:8080/"
        },
        "id": "H0MafF_kosey",
        "outputId": "dd0fbb80-6027-4e09-a86c-9f8d1320931a"
      },
      "execution_count": null,
      "outputs": [
        {
          "output_type": "stream",
          "name": "stdout",
          "text": [
            "10\n",
            "20\n",
            "30\n"
          ]
        }
      ]
    },
    {
      "cell_type": "code",
      "source": [
        "a = 10\n",
        "b = 20"
      ],
      "metadata": {
        "id": "-wSNMOrapFRD"
      },
      "execution_count": null,
      "outputs": []
    },
    {
      "cell_type": "code",
      "source": [
        "c = a + b"
      ],
      "metadata": {
        "id": "Q8MBBZ4aphHd"
      },
      "execution_count": null,
      "outputs": []
    },
    {
      "cell_type": "code",
      "source": [
        "print(c)"
      ],
      "metadata": {
        "colab": {
          "base_uri": "https://localhost:8080/"
        },
        "id": "ihDHVV0JptOL",
        "outputId": "6b804acc-088f-4fd4-fe9e-915833fbbd3f"
      },
      "execution_count": null,
      "outputs": [
        {
          "output_type": "stream",
          "name": "stdout",
          "text": [
            "30\n"
          ]
        }
      ]
    },
    {
      "cell_type": "code",
      "source": [
        "number1 = int (10)\n",
        "number2= float(10)\n",
        "number3= complex(10)\n"
      ],
      "metadata": {
        "id": "IjDKIjUvqBM7"
      },
      "execution_count": null,
      "outputs": []
    },
    {
      "cell_type": "code",
      "source": [
        "print(number1)\n",
        "print(number2)\n",
        "print(number3)\n"
      ],
      "metadata": {
        "colab": {
          "base_uri": "https://localhost:8080/"
        },
        "id": "d34zG2d6tPP_",
        "outputId": "30f78373-01f2-4637-b5b9-2db4284a350e"
      },
      "execution_count": null,
      "outputs": [
        {
          "output_type": "stream",
          "name": "stdout",
          "text": [
            "10\n",
            "10.0\n",
            "(10+0j)\n"
          ]
        }
      ]
    },
    {
      "cell_type": "code",
      "source": [
        "text = \"\"\"The invention of currency doesn't have a single inventor, but rather ev\n",
        "Around 3000 BCE, the Mesopotamians used shekels, which were originally weights of\n",
        "The Chinese used cowrie shells as early currency around 1200 BCE, and later devel\n",
        "In Lydia (modern-day Turkey), King Alyattes is credited with issuing the first of\n",
        "Before these formal currencies, people primarily used barter systems, followed by\n",
        "The idea of paper money emerged much later, with the Chinese Song Dynasty pioneer\"\"\""
      ],
      "metadata": {
        "id": "j5ZcJX9Ftu8h"
      },
      "execution_count": null,
      "outputs": []
    },
    {
      "cell_type": "code",
      "source": [
        "print(text)"
      ],
      "metadata": {
        "colab": {
          "base_uri": "https://localhost:8080/"
        },
        "id": "psHU8PQTu7kd",
        "outputId": "3b71a2c8-5c81-4d73-c481-fc09743288ae"
      },
      "execution_count": null,
      "outputs": [
        {
          "output_type": "stream",
          "name": "stdout",
          "text": [
            "The invention of currency doesn't have a single inventor, but rather ev\n",
            "Around 3000 BCE, the Mesopotamians used shekels, which were originally weights of \n",
            "The Chinese used cowrie shells as early currency around 1200 BCE, and later devel\n",
            "In Lydia (modern-day Turkey), King Alyattes is credited with issuing the first of\n",
            "Before these formal currencies, people primarily used barter systems, followed by \n",
            "The idea of paper money emerged much later, with the Chinese Song Dynasty pioneer\n"
          ]
        }
      ]
    },
    {
      "cell_type": "code",
      "source": [
        "import sys, time\n"
      ],
      "metadata": {
        "id": "w5T7vy3yvAM_"
      },
      "execution_count": null,
      "outputs": []
    },
    {
      "cell_type": "code",
      "source": [
        "#Loops\n",
        "#Whenever we are about to perform a single operation for n times - we will use loop\n",
        "#Loops\n",
        "for _ in text:\n",
        "  # system is having default functions that can change the output\n",
        "  sys.stdout.write(_)\n",
        "  sys.stdout.flush()\n",
        "  time.sleep(0.03)"
      ],
      "metadata": {
        "colab": {
          "base_uri": "https://localhost:8080/"
        },
        "id": "xSFSS9YkvGd3",
        "outputId": "cb986324-517d-4ddd-bad0-9af2eb418d1b"
      },
      "execution_count": null,
      "outputs": [
        {
          "output_type": "stream",
          "name": "stdout",
          "text": [
            "The invention of currency doesn't have a single inventor, but rather ev\n",
            "Around 3000 BCE, the Mesopotamians used shekels, which were originally weights of \n",
            "The Chinese used cowrie shells as early currency around 1200 BCE, and later devel\n",
            "In Lydia (modern-day Turkey), King Alyattes is credited with issuing the first of\n",
            "Before these formal currencies, people primarily used barter systems, followed by \n",
            "The idea of paper money emerged much later, with the Chinese Song Dynasty pioneer"
          ]
        }
      ]
    },
    {
      "cell_type": "code",
      "source": [
        "# Seq Data type - List, Dictionaries, Set, tuples\n",
        "# List\n",
        "# Syntax -\n",
        "# VariableName = []\n",
        "numbers = [10, 20, 30, 40, 50]\n",
        "len(numbers)\n",
        "# Add an element into a list\n",
        "# numbers.append(60)\n",
        "# print(numbers)\n"
      ],
      "metadata": {
        "colab": {
          "base_uri": "https://localhost:8080/"
        },
        "id": "ZZyDlzg3wJlu",
        "outputId": "28d754c1-54c6-4e30-8236-f28510804a0a"
      },
      "execution_count": null,
      "outputs": [
        {
          "output_type": "execute_result",
          "data": {
            "text/plain": [
              "5"
            ]
          },
          "metadata": {},
          "execution_count": 91
        }
      ]
    },
    {
      "cell_type": "code",
      "source": [
        "#Remove an element from the list\n",
        "#numbers.remove(30)\n",
        "#print(numbers)\n"
      ],
      "metadata": {
        "id": "OGW-XUiIwuVd"
      },
      "execution_count": null,
      "outputs": []
    },
    {
      "cell_type": "code",
      "source": [
        " #Find or access nth value from the list\n",
        "# List[n-1]\n",
        "# Remove nth element in the list\n",
        "# numbers.pop(n)\n",
        "# print(numbers)\n",
        "numbers.pop(0)\n",
        "print(numbers)\n"
      ],
      "metadata": {
        "colab": {
          "base_uri": "https://localhost:8080/"
        },
        "id": "FEOS0eVBxDJ7",
        "outputId": "992d4206-46fe-4fc2-dae8-e5aa1b111465"
      },
      "execution_count": null,
      "outputs": [
        {
          "output_type": "stream",
          "name": "stdout",
          "text": [
            "[20, 30, 40, 50]\n"
          ]
        }
      ]
    },
    {
      "cell_type": "code",
      "source": [
        "# Dictionary\n",
        "# {}\n",
        "# Key Value pair\n",
        "# ex :\n",
        "R201 ={\n",
        "'Name' : 'ABC',\n",
        "'Year' : 2,\n",
        "'Branch' : 'BCom'\n",
        "}\n",
        "print(R201)\n",
        "# R201['Branch']\n",
        "# Change or manipulate the data\n",
        "# R201['Year'] = 3\n",
        "print(R201)\n",
        "# Remove a key-value pair\n",
        "R201.pop('Year')\n",
        "print(R201)\n",
        "# Update the dictionary\n",
        "R201.update({'Age':20})\n",
        "print(R201)"
      ],
      "metadata": {
        "colab": {
          "base_uri": "https://localhost:8080/"
        },
        "id": "vNluIWmvxYrX",
        "outputId": "7cc78a1d-8560-4e37-eb31-ed6353943593"
      },
      "execution_count": null,
      "outputs": [
        {
          "output_type": "stream",
          "name": "stdout",
          "text": [
            "{'Name': 'ABC', 'Year': 2, 'Branch': 'BCom'}\n",
            "{'Name': 'ABC', 'Year': 2, 'Branch': 'BCom'}\n",
            "{'Name': 'ABC', 'Branch': 'BCom'}\n",
            "{'Name': 'ABC', 'Branch': 'BCom', 'Age': 20}\n"
          ]
        }
      ]
    },
    {
      "cell_type": "code",
      "source": [
        "# Find out python version\n",
        "# python3 --version\n",
        "# Set -\n",
        "# Syntax for set. - {}\n",
        "# Cannot have duplicate values\n",
        "exampleSet = set([10,20,20,30,40,50])\n",
        "print(exampleSet)"
      ],
      "metadata": {
        "colab": {
          "base_uri": "https://localhost:8080/"
        },
        "id": "0GmXO6MEzH5Y",
        "outputId": "589d69d8-db86-4c0d-86b5-eb2e2b573e6e"
      },
      "execution_count": null,
      "outputs": [
        {
          "output_type": "stream",
          "name": "stdout",
          "text": [
            "{40, 10, 50, 20, 30}\n"
          ]
        }
      ]
    },
    {
      "cell_type": "code",
      "source": [
        "# Tuples\n",
        "# ()\n",
        "# Add, subtract, access\n",
        "# Cannot update\n",
        "# Immutable\n",
        "# Add 10 elements\n",
        "# List.append(1)\n",
        "#  List.append(2)"
      ],
      "metadata": {
        "id": "6Ioh5nlqzUh_"
      },
      "execution_count": null,
      "outputs": []
    },
    {
      "cell_type": "code",
      "source": [
        "print(\"Hello\")\n",
        "print(\"Hello\")\n",
        "print(\"Hello\")"
      ],
      "metadata": {
        "colab": {
          "base_uri": "https://localhost:8080/"
        },
        "id": "3upe8G7jzZk-",
        "outputId": "366a7432-4a55-4383-bcd4-858dcf8b7fd5"
      },
      "execution_count": null,
      "outputs": [
        {
          "output_type": "stream",
          "name": "stdout",
          "text": [
            "Hello\n",
            "Hello\n",
            "Hello\n"
          ]
        }
      ]
    },
    {
      "cell_type": "code",
      "source": [
        "#Loops\n",
        "#Repeat a task n number of times or till the condition is satisfied\n",
        "#Knowledge of Task rep..\n",
        "#1. For\n",
        "#2. While\n",
        "# For loop\n",
        "# Syntax\n",
        "# for tempVariable in range(num):\n",
        "#   Executions / Functions"
      ],
      "metadata": {
        "id": "d1wxnZN0zdJz"
      },
      "execution_count": null,
      "outputs": []
    },
    {
      "cell_type": "code",
      "source": [
        "for _ in range(10):\n",
        "  print(\"Hello\")\n",
        "  print(_)\n",
        "  print(\"World\")"
      ],
      "metadata": {
        "colab": {
          "base_uri": "https://localhost:8080/"
        },
        "id": "TawlwnGd0Fjs",
        "outputId": "0addd459-8462-4b55-a942-80bcedd0b645"
      },
      "execution_count": null,
      "outputs": [
        {
          "output_type": "stream",
          "name": "stdout",
          "text": [
            "Hello\n",
            "0\n",
            "World\n",
            "Hello\n",
            "1\n",
            "World\n",
            "Hello\n",
            "2\n",
            "World\n",
            "Hello\n",
            "3\n",
            "World\n",
            "Hello\n",
            "4\n",
            "World\n",
            "Hello\n",
            "5\n",
            "World\n",
            "Hello\n",
            "6\n",
            "World\n",
            "Hello\n",
            "7\n",
            "World\n",
            "Hello\n",
            "8\n",
            "World\n",
            "Hello\n",
            "9\n",
            "World\n"
          ]
        }
      ]
    }
  ]
}